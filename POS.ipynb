{
 "cells": [
  {
   "cell_type": "code",
   "execution_count": null,
   "id": "ab4e6d43",
   "metadata": {},
   "outputs": [],
   "source": [
    "nltk.download()"
   ]
  },
  {
   "cell_type": "code",
   "execution_count": 6,
   "id": "41894adf",
   "metadata": {
    "ExecuteTime": {
     "end_time": "2021-11-29T13:21:31.674156Z",
     "start_time": "2021-11-29T13:21:31.668178Z"
    }
   },
   "outputs": [],
   "source": [
    "import nltk\n",
    "from nltk.corpus import stopwords\n",
    "from nltk.tokenize import word_tokenize, sent_tokenize"
   ]
  },
  {
   "cell_type": "code",
   "execution_count": 28,
   "id": "36c7fd22",
   "metadata": {
    "ExecuteTime": {
     "end_time": "2021-11-29T13:44:24.349498Z",
     "start_time": "2021-11-29T13:44:24.344511Z"
    }
   },
   "outputs": [],
   "source": [
    "txt='this is just a random piece of text does not have any importance at all i used it only for testing purpose'"
   ]
  },
  {
   "cell_type": "code",
   "execution_count": 21,
   "id": "e1090721",
   "metadata": {
    "ExecuteTime": {
     "end_time": "2021-11-29T13:39:05.198771Z",
     "start_time": "2021-11-29T13:39:05.193773Z"
    }
   },
   "outputs": [],
   "source": [
    "def pos(txt):\n",
    "    #stop_words = set(stopwords.words('english'))\n",
    "    tokenized = sent_tokenize(txt)\n",
    "    for i in tokenized:\n",
    "        wordsList = nltk.word_tokenize(i)\n",
    "        #wordsList = [w for w in wordsList if not w in stop_words] \n",
    "        tagged = nltk.pos_tag(wordsList)\n",
    "    return tagged"
   ]
  },
  {
   "cell_type": "markdown",
   "id": "a88d39cb",
   "metadata": {},
   "source": [
    "CC coordinating conjunction\n",
    "\n",
    "CD cardinal digit\n",
    "\n",
    "DT determiner\n",
    "\n",
    "EX existential there (like: “there is” … think of it like “there exists”)\n",
    "\n",
    "FW foreign word\n",
    "\n",
    "IN preposition/subordinating conjunction\n",
    "\n",
    "JJ adjective ‘big’\n",
    "\n",
    "JJR adjective, comparative ‘bigger’\n",
    "\n",
    "JJS adjective, superlative ‘biggest’\n",
    "\n",
    "LS list marker 1)\n",
    "\n",
    "MD modal could, will\n",
    "\n",
    "NN noun, singular ‘desk’\n",
    "\n",
    "NNS noun plural ‘desks’\n",
    "\n",
    "NNP proper noun, singular ‘Harrison’\n",
    "\n",
    "NNPS proper noun, plural ‘Americans’\n",
    "\n",
    "PDT predeterminer ‘all the kids’\n",
    "\n",
    "POS possessive ending parent‘s\n",
    "\n",
    "PRP personal pronoun I, he, she\n",
    "\n",
    "PRP$ possessive pronoun my, his, hers\n",
    "\n",
    "RB adverb very, silently,\n",
    "\n",
    "RBR adverb, comparative better\n",
    "\n",
    "RBS adverb, superlative best\n",
    "\n",
    "RP particle give up\n",
    "\n",
    "TO to go ‘to‘ the store.\n",
    "\n",
    "UH interjection errrrrrrrm\n",
    "\n",
    "VB verb, base form take\n",
    "\n",
    "VBD verb, past tense took\n",
    "\n",
    "VBG verb, gerund/present participle taking\n",
    "\n",
    "VBN verb, past participle taken\n",
    "\n",
    "VBP verb, sing. present, non-3d take\n",
    "\n",
    "VBZ verb, 3rd person sing. present takes\n",
    "\n",
    "WDT wh-determiner which\n",
    "\n",
    "WP wh-pronoun who, what\n",
    "\n",
    "WP$ possessive wh-pronoun whose\n",
    "\n",
    "WRB wh-abverb where, when"
   ]
  },
  {
   "cell_type": "code",
   "execution_count": 29,
   "id": "96ed6e11",
   "metadata": {
    "ExecuteTime": {
     "end_time": "2021-11-29T13:44:28.431779Z",
     "start_time": "2021-11-29T13:44:28.424800Z"
    }
   },
   "outputs": [
    {
     "name": "stdout",
     "output_type": "stream",
     "text": [
      "[('this', 'DT'), ('is', 'VBZ'), ('just', 'RB'), ('a', 'DT'), ('random', 'JJ'), ('piece', 'NN'), ('of', 'IN'), ('text', 'NN'), ('does', 'VBZ'), ('not', 'RB'), ('have', 'VB'), ('any', 'DT'), ('importance', 'NN'), ('at', 'IN'), ('all', 'DT'), ('i', 'NN'), ('used', 'VBD'), ('it', 'PRP'), ('only', 'RB'), ('for', 'IN'), ('testing', 'VBG'), ('purpose', 'NN')]\n"
     ]
    }
   ],
   "source": [
    "print(pos(txt))"
   ]
  }
 ],
 "metadata": {
  "kernelspec": {
   "display_name": "Python 3 (ipykernel)",
   "language": "python",
   "name": "python3"
  },
  "language_info": {
   "codemirror_mode": {
    "name": "ipython",
    "version": 3
   },
   "file_extension": ".py",
   "mimetype": "text/x-python",
   "name": "python",
   "nbconvert_exporter": "python",
   "pygments_lexer": "ipython3",
   "version": "3.8.12"
  }
 },
 "nbformat": 4,
 "nbformat_minor": 5
}
