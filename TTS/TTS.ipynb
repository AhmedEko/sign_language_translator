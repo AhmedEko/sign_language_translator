{
 "cells": [
  {
   "cell_type": "code",
   "execution_count": null,
   "id": "dffc0548",
   "metadata": {
    "ExecuteTime": {
     "end_time": "2021-11-24T15:24:13.447485Z",
     "start_time": "2021-11-24T15:24:09.234939Z"
    }
   },
   "outputs": [],
   "source": [
    "#pip install gtts\n",
    "#pip install playsound==1.2.2\n",
    "#pip install pypiwin32\n",
    "pip install pyttsx3\n"
   ]
  },
  {
   "cell_type": "code",
   "execution_count": 1,
   "id": "1d84069d",
   "metadata": {
    "ExecuteTime": {
     "end_time": "2021-12-14T17:02:18.444711Z",
     "start_time": "2021-12-14T17:02:18.424119Z"
    }
   },
   "outputs": [],
   "source": [
    "#from gtts import gTTS \n",
    "#import gtts\n",
    "#import os \n",
    "#from playsound import playsound\n",
    "import pyttsx3\n"
   ]
  },
  {
   "cell_type": "markdown",
   "id": "1afddcde",
   "metadata": {},
   "source": [
    "## accent available in gtts\n",
    "\n",
    "English (Australia)  com.au\n",
    "\n",
    "English (United Kingdom)  co.uk\n",
    "\n",
    "English (United States)    com (default)\n",
    "\n",
    "English (Canada)    ca\n",
    "\n",
    "English (India)     co.in\n",
    "\n",
    "English (Ireland)    ie\n",
    "\n",
    "English (South Africa)  co.za"
   ]
  },
  {
   "cell_type": "code",
   "execution_count": 2,
   "id": "88b93de9",
   "metadata": {
    "ExecuteTime": {
     "end_time": "2021-12-07T17:44:54.554000Z",
     "start_time": "2021-12-07T17:44:54.549032Z"
    }
   },
   "outputs": [],
   "source": [
    "# def TTS_using_gtts(text,accent='com'):\n",
    "#     language = 'en'\n",
    "#     output = gTTS(text=text, lang=language, slow=False,tld=accent)\n",
    "#     #mp3_fp = BytesIO()\n",
    "#     #output.write_to_fp(mp3_fp)\n",
    "#     output.save(\"output.mp3\")\n",
    "#     playsound(\"output.mp3\")\n",
    "#     #alternative play (os.system(\"start output.mp3\")) this depends on OS player\n",
    "#     os.remove(\"output.mp3\")"
   ]
  },
  {
   "cell_type": "code",
   "execution_count": 2,
   "id": "eb7cf962",
   "metadata": {
    "ExecuteTime": {
     "end_time": "2021-12-14T17:02:21.236310Z",
     "start_time": "2021-12-14T17:02:21.230345Z"
    }
   },
   "outputs": [],
   "source": [
    "def TTS_using_pyttsx3(text,gender='male',speed=175,volume=1):\n",
    "    engine = pyttsx3.init()\n",
    "    voices = engine.getProperty('voices')\n",
    "    if gender.lower() == 'male':\n",
    "        engine.setProperty('voice', voices[0].id)  #changing index, changes voices. o for male\n",
    "    else:\n",
    "        engine.setProperty('voice', voices[1].id)   #changing index, changes voices. 1 for female\n",
    "    engine.setProperty('rate', speed) ## speach speed \n",
    "    engine.setProperty('volume',1.0)  # setting up volume level  between 0 and 1 (min=0 and max=1)\n",
    "    engine.say(text)    #put our text to process it \n",
    "    # engine.save_to_file(text, 'output.mp3')   # incase want to save file\n",
    "    engine.runAndWait()  #speaking"
   ]
  },
  {
   "cell_type": "code",
   "execution_count": 3,
   "id": "542554a2",
   "metadata": {
    "ExecuteTime": {
     "end_time": "2021-12-14T17:02:30.546908Z",
     "start_time": "2021-12-14T17:02:30.542906Z"
    }
   },
   "outputs": [],
   "source": [
    "text=\"Merry alone do it burst me songs. Sorry equal charm joy her those folly ham.\""
   ]
  },
  {
   "cell_type": "code",
   "execution_count": null,
   "id": "41d1f164",
   "metadata": {
    "ExecuteTime": {
     "end_time": "2021-12-07T17:38:33.328131Z",
     "start_time": "2021-12-07T17:37:53.794515Z"
    }
   },
   "outputs": [],
   "source": [
    "#TTS_using_gtts(text)"
   ]
  },
  {
   "cell_type": "code",
   "execution_count": 4,
   "id": "e04f742f",
   "metadata": {
    "ExecuteTime": {
     "end_time": "2021-12-14T17:02:41.304049Z",
     "start_time": "2021-12-14T17:02:33.604795Z"
    }
   },
   "outputs": [],
   "source": [
    "TTS_using_pyttsx3(text,'1',190)"
   ]
  }
 ],
 "metadata": {
  "kernelspec": {
   "display_name": "Python 3 (ipykernel)",
   "language": "python",
   "name": "python3"
  },
  "language_info": {
   "codemirror_mode": {
    "name": "ipython",
    "version": 3
   },
   "file_extension": ".py",
   "mimetype": "text/x-python",
   "name": "python",
   "nbconvert_exporter": "python",
   "pygments_lexer": "ipython3",
   "version": "3.8.12"
  },
  "latex_envs": {
   "LaTeX_envs_menu_present": true,
   "autoclose": false,
   "autocomplete": true,
   "bibliofile": "biblio.bib",
   "cite_by": "apalike",
   "current_citInitial": 1,
   "eqLabelWithNumbers": true,
   "eqNumInitial": 1,
   "hotkeys": {
    "equation": "Ctrl-E",
    "itemize": "Ctrl-I"
   },
   "labels_anchors": false,
   "latex_user_defs": false,
   "report_style_numbering": false,
   "user_envs_cfg": false
  }
 },
 "nbformat": 4,
 "nbformat_minor": 5
}
